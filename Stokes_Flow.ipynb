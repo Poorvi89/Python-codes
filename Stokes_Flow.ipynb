{
 "cells": [
  {
   "cell_type": "code",
   "execution_count": 1,
   "metadata": {
    "collapsed": true
   },
   "outputs": [],
   "source": [
    "import numpy\n",
    "from matplotlib import pyplot\n",
    "%matplotlib inline\n",
    "from matplotlib import rcParams, cm\n",
    "rcParams['font.family'] = 'serif'\n",
    "rcParams['font.size'] = 16"
   ]
  },
  {
   "cell_type": "code",
   "execution_count": 2,
   "metadata": {
    "collapsed": false
   },
   "outputs": [],
   "source": [
    "nx = 41\n",
    "ny = 41\n",
    "\n",
    "l = 1.\n",
    "h = 1.\n",
    "\n",
    "dx = l/(nx-1)\n",
    "dy = h/(ny-1)\n",
    "psi=numpy.zeros((ny, nx))\n",
    "l1_target = 1e-6\n",
    "\n",
    "x  = numpy.linspace(0,1,nx)\n",
    "y  = numpy.linspace(0,1,ny)\n",
    "X,Y = numpy.meshgrid(x,y)\n",
    "omega=numpy.zeros((ny, nx))\n",
    "omega[:,:]=1\n"
   ]
  },
  {
   "cell_type": "code",
   "execution_count": 3,
   "metadata": {
    "collapsed": false
   },
   "outputs": [],
   "source": [
    "def conjugate_gradient_2d(psi, omega, dx, dy, l1_target):\n",
    "    '''Performs cg relaxation\n",
    "    Assumes Dirichlet boundary conditions p=0\n",
    "    \n",
    "    Parameters:\n",
    "    ----------\n",
    "    p : 2D array of floats\n",
    "        Initial guess\n",
    "    b : 2D array of floats\n",
    "        Source term\n",
    "    dx: float\n",
    "        Mesh spacing in x direction\n",
    "    dy: float\n",
    "        Mesh spacing in y direction\n",
    "    l2_target: float\n",
    "        exit criterion\n",
    "        \n",
    "    Returns:\n",
    "    -------\n",
    "    p: 2D array of float\n",
    "        Distribution after relaxation\n",
    "    '''\n",
    "    ny, nx = psi.shape\n",
    "    r  = numpy.zeros((ny,nx)) # residual\n",
    "    Ad  = numpy.zeros((ny,nx)) # to store result of matrix multiplication \n",
    "    \n",
    "    l1_norm = 1\n",
    "    #iterations = 0\n",
    "    l1_conv = []\n",
    "    \n",
    "    # Step-0 We compute the initial residual and \n",
    "    # the first search direction is just this residual\n",
    "    \n",
    "    \n",
    "    \n",
    "    # Iterations\n",
    "    while l1_norm > l1_target:\n",
    "        \n",
    "            # Step-0 We compute the initial residual and \n",
    "            # the first search direction is just this residual\n",
    "        \n",
    "        omega_l1_norm = 1\n",
    "        #omega_iterations = 0\n",
    "        omega_l1_conv = []\n",
    "    \n",
    "        while omega_l1_norm > l1_target:\n",
    "\n",
    "            omegad = omega.copy()\n",
    "\n",
    "            omega[1:-1,1:-1] = 1/(2*(dx**2 + dy**2)) * \\\n",
    "                        ((omegad[1:-1,2:]+omegad[1:-1,:-2])*dy**2 +\\\n",
    "                        (omegad[2:,1:-1] + omegad[:-2,1:-1])*dx**2)\n",
    "    \n",
    "            # BCs to be enforced\n",
    "            #top\n",
    "            omega[-1,1:-1] = -1./(2*dy**2) * (8*psi[-2,1:-1]-psi[-3,1:-1])-3/dy\n",
    "            #bottom\n",
    "            omega[0,1:-1] = -1./(2*dy**2) * (8*psi[1,1:-1]-psi[2,1:-1])# if incorrect check this step in calculation.\n",
    "            #left\n",
    "            omega[1:-1,0] = -1./(2*dx**2) * (8*psi[1:-1,1]-psi[1:-1,2])\n",
    "            #right\n",
    "            omega[1:-1,-1] = -1./(2*dx**2) * (8*psi[1:-1,-2]-psi[1:-1,-3])\n",
    "        \n",
    "            omega_l1_norm = L1norm(omegad,omega)\n",
    "        \n",
    "        r[1:-1,1:-1] = -omega[1:-1,1:-1] + (4*psi[1:-1,1:-1] - \\\n",
    "        psi[1:-1,2:] - psi[1:-1,:-2] - psi[2:, 1:-1] - psi[:-2, 1:-1])/dx**2\n",
    "        d = r.copy()\n",
    "        rho = numpy.sum(r*r)\n",
    "        Ad[1:-1,1:-1] = (-4*d[1:-1,1:-1]+d[1:-1,2:]+d[1:-1,:-2]+\\\n",
    "        d[2:, 1:-1] + d[:-2, 1:-1])/dx**2\n",
    "        sigma = numpy.sum(d*Ad)\n",
    "\n",
    "        psik = psi.copy()\n",
    "        rk = r.copy()\n",
    "        dk = d.copy()\n",
    "        \n",
    "        alpha = rho/sigma\n",
    "\n",
    "        psi = psik + alpha*dk\n",
    "        r = rk- alpha*Ad\n",
    "        \n",
    "        rhop1 = numpy.sum(r*r)\n",
    "        beta = rhop1 / rho\n",
    "        rho = rhop1\n",
    "        \n",
    "        d = r + beta*dk\n",
    "        Ad[1:-1,1:-1] = (-4*d[1:-1,1:-1] + d[1:-1,2:] + d[1:-1,:-2] + \\\n",
    "            d[2:, 1:-1] + d[:-2, 1:-1])/dx**2\n",
    "        sigma = numpy.sum(d*Ad)\n",
    "        \n",
    "        # BCs are automatically enforced (only Dirichlet bc for psi)\n",
    "        \n",
    "        l1_norm = L1norm(psik,psi)\n",
    "        #iterations += 1\n",
    "        l1_conv.append(l1_norm)\n",
    "    \n",
    "    #print('Number of CG iterations: {0:d}'.format(iterations))\n",
    "    pyplot.figure(figsize=(8,5))\n",
    "    pyplot.contourf(X,Y,psik,20,cmap=cm.viridis)\n",
    "    pyplot.xlabel('$x$')\n",
    "    pyplot.ylabel('$y$')\n",
    "    pyplot.colorbar(); \n",
    "    # the following code helps to find the maximum absolute value of a 2 D array (needed for questions in module 5)\n",
    "    psikmax = psik.flat[abs(psik).argmax()]\n",
    "    print(psikmax)\n",
    "    omegadmax = omegad.flat[abs(omegad).argmax()]\n",
    "    print(omegadmax)\n",
    "    print(numpy.round(psik[32,::8], 4))"
   ]
  },
  {
   "cell_type": "code",
   "execution_count": 4,
   "metadata": {
    "collapsed": true
   },
   "outputs": [],
   "source": [
    "def L1norm(new, old):\n",
    "    norm = numpy.sum(numpy.abs(new-old))\n",
    "    return norm"
   ]
  },
  {
   "cell_type": "code",
   "execution_count": 5,
   "metadata": {
    "collapsed": false
   },
   "outputs": [
    {
     "name": "stdout",
     "output_type": "stream",
     "text": [
      "-0.0998450732002\n",
      "-78.1926607994\n",
      "[ 0.     -0.0575 -0.0944 -0.0944 -0.0575  0.    ]\n"
     ]
    },
    {
     "data": {
      "image/png": "[encoded data removed]",
      "text/plain": [
       "<matplotlib.figure.Figure at 0x11022bfd0>"
      ]
     },
     "metadata": {},
     "output_type": "display_data"
    }
   ],
   "source": [
    " conjugate_gradient_2d(psi, omega, dx, dy, l1_target)"
   ]
  },
  {
   "cell_type": "code",
   "execution_count": null,
   "metadata": {
    "collapsed": true
   },
   "outputs": [],
   "source": []
  }
 ],
 "metadata": {
  "kernelspec": {
   "display_name": "Python 3",
   "language": "python",
   "name": "python3"
  },
  "language_info": {
   "codemirror_mode": {
    "name": "ipython",
    "version": 3
   },
   "file_extension": ".py",
   "mimetype": "text/x-python",
   "name": "python",
   "nbconvert_exporter": "python",
   "pygments_lexer": "ipython3",
   "version": "3.6.0"
  }
 },
 "nbformat": 4,
 "nbformat_minor": 2
}
